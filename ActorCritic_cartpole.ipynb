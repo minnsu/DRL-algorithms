{
 "cells": [
  {
   "cell_type": "code",
   "execution_count": 1,
   "id": "dfea2d77-5f31-492d-be10-75ca3b480626",
   "metadata": {},
   "outputs": [
    {
     "name": "stdout",
     "output_type": "stream",
     "text": [
      "Using cpu device\n"
     ]
    }
   ],
   "source": [
    "import torch\n",
    "from torch import nn\n",
    "from torch import optim\n",
    "device = (\n",
    "    \"cuda\"\n",
    "    if torch.cuda.is_available()\n",
    "    else \"mps\"\n",
    "    if torch.backends.mps.is_available()\n",
    "    else \"cpu\"\n",
    ")\n",
    "print(f\"Using {device} device\")\n",
    "\n",
    "import gym\n",
    "\n",
    "from ActorCritic import TDActorCritic"
   ]
  },
  {
   "cell_type": "code",
   "execution_count": 2,
   "id": "aab9afec-26c5-44e3-8e1c-b473474f476f",
   "metadata": {},
   "outputs": [],
   "source": [
    "class Network(nn.Module):\n",
    "    def __init__(self, input_dim, output_dim):\n",
    "        super().__init__()\n",
    "        self.shareNet = nn.Sequential(\n",
    "            nn.Linear(input_dim, 128),\n",
    "            nn.ReLU(),\n",
    "            nn.Linear(128, 128),\n",
    "            nn.ReLU(),\n",
    "        )\n",
    "        self._actor = nn.Sequential(\n",
    "            nn.Linear(128, output_dim),\n",
    "            nn.Softmax()\n",
    "        )\n",
    "        self._critic = nn.Sequential(\n",
    "            nn.Linear(128, 1),\n",
    "        )\n",
    "    def forward(self, x):\n",
    "        x = self.shareNet(x)\n",
    "        act = self._actor(x)\n",
    "        cri = self._critic(x)\n",
    "        return act, cri\n"
   ]
  },
  {
   "cell_type": "code",
   "execution_count": 3,
   "id": "e21692bf-b038-4675-9dc0-3ba1012e717c",
   "metadata": {},
   "outputs": [],
   "source": [
    "model = Network(4, 2)\n",
    "critic_loss_fn = nn.MSELoss()\n",
    "optimizer= optim.Adam(model.parameters(), lr=0.001)"
   ]
  },
  {
   "cell_type": "code",
   "execution_count": 4,
   "id": "eb297e08-db81-4c33-86e5-a3fa9d69a3c2",
   "metadata": {},
   "outputs": [],
   "source": [
    "env = gym.make('CartPole-v1', render_mode='rgb_array')"
   ]
  },
  {
   "cell_type": "code",
   "execution_count": 5,
   "id": "de153efe-3a00-4b2f-870a-08e3653181ce",
   "metadata": {},
   "outputs": [],
   "source": [
    "agent = TDActorCritic(env, model, critic_loss_fn, optimizer, discount_factor=0.99, batch_size=32, action_space_type='discrete')"
   ]
  },
  {
   "cell_type": "code",
   "execution_count": 9,
   "id": "bef29661-7f05-4292-afe5-767765c5fd01",
   "metadata": {},
   "outputs": [
    {
     "name": "stdout",
     "output_type": "stream",
     "text": [
      "Batch 1 (Epi [32/1024]): avg steps: 147.53125 avg reward: 147.53125\n",
      "Batch 2 (Epi [64/1024]): avg steps: 128.75 avg reward: 128.75\n",
      "Batch 3 (Epi [96/1024]): avg steps: 228.1875 avg reward: 228.1875\n",
      "Batch 4 (Epi [128/1024]): avg steps: 234.6875 avg reward: 234.6875\n",
      "Batch 5 (Epi [160/1024]): avg steps: 226.9375 avg reward: 226.9375\n",
      "Batch 6 (Epi [192/1024]): avg steps: 157.75 avg reward: 157.75\n",
      "Batch 7 (Epi [224/1024]): avg steps: 160.71875 avg reward: 160.71875\n",
      "Batch 8 (Epi [256/1024]): avg steps: 187.25 avg reward: 187.25\n",
      "Batch 9 (Epi [288/1024]): avg steps: 198.5625 avg reward: 198.5625\n",
      "Batch 10 (Epi [320/1024]): avg steps: 206.15625 avg reward: 206.15625\n",
      "Batch 11 (Epi [352/1024]): avg steps: 188.65625 avg reward: 188.65625\n",
      "Batch 12 (Epi [384/1024]): avg steps: 151.53125 avg reward: 151.53125\n",
      "Batch 13 (Epi [416/1024]): avg steps: 158.6875 avg reward: 158.6875\n",
      "Batch 14 (Epi [448/1024]): avg steps: 193.90625 avg reward: 193.90625\n",
      "Batch 15 (Epi [480/1024]): avg steps: 201.625 avg reward: 201.625\n",
      "Batch 16 (Epi [512/1024]): avg steps: 231.96875 avg reward: 231.96875\n",
      "Batch 17 (Epi [544/1024]): avg steps: 174.40625 avg reward: 174.40625\n",
      "Batch 18 (Epi [576/1024]): avg steps: 175.5625 avg reward: 175.5625\n",
      "Batch 19 (Epi [608/1024]): avg steps: 183.28125 avg reward: 183.28125\n",
      "Batch 20 (Epi [640/1024]): avg steps: 184.90625 avg reward: 184.90625\n",
      "Batch 21 (Epi [672/1024]): avg steps: 221.125 avg reward: 221.125\n",
      "Batch 22 (Epi [704/1024]): avg steps: 205.3125 avg reward: 205.3125\n",
      "Batch 23 (Epi [736/1024]): avg steps: 195.21875 avg reward: 195.21875\n",
      "Batch 24 (Epi [768/1024]): avg steps: 190.34375 avg reward: 190.34375\n",
      "Batch 25 (Epi [800/1024]): avg steps: 177.46875 avg reward: 177.46875\n",
      "Batch 26 (Epi [832/1024]): avg steps: 191.875 avg reward: 191.875\n",
      "Batch 27 (Epi [864/1024]): avg steps: 212.4375 avg reward: 212.4375\n",
      "Batch 28 (Epi [896/1024]): avg steps: 218.3125 avg reward: 218.3125\n",
      "Batch 29 (Epi [928/1024]): avg steps: 267.8125 avg reward: 267.8125\n",
      "Batch 30 (Epi [960/1024]): avg steps: 201.875 avg reward: 201.875\n",
      "Batch 31 (Epi [992/1024]): avg steps: 178.34375 avg reward: 178.34375\n",
      "Batch 31 (Epi [1023/1024]): avg steps: 180.61290322580646 avg reward: 180.61290322580646\n"
     ]
    }
   ],
   "source": [
    "agent.train(1024, 500)"
   ]
  },
  {
   "cell_type": "code",
   "execution_count": null,
   "id": "0d63c778-61aa-47a1-8cdf-5505a3dcad87",
   "metadata": {},
   "outputs": [],
   "source": [
    "import numpy as np\n",
    "state = env.reset()[0]\n",
    "\n",
    "actor, critic = model(torch.tensor(state))\n",
    "\n",
    "print(actor)\n",
    "print(critic)"
   ]
  },
  {
   "cell_type": "code",
   "execution_count": null,
   "id": "8c6f7d0c-5dd9-43b0-9c20-443156e70b77",
   "metadata": {},
   "outputs": [],
   "source": []
  }
 ],
 "metadata": {
  "kernelspec": {
   "display_name": "Python 3 (ipykernel)",
   "language": "python",
   "name": "python3"
  },
  "language_info": {
   "codemirror_mode": {
    "name": "ipython",
    "version": 3
   },
   "file_extension": ".py",
   "mimetype": "text/x-python",
   "name": "python",
   "nbconvert_exporter": "python",
   "pygments_lexer": "ipython3",
   "version": "3.10.12"
  }
 },
 "nbformat": 4,
 "nbformat_minor": 5
}
