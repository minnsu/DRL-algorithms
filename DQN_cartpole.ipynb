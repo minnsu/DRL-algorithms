{
 "cells": [
  {
   "cell_type": "code",
   "execution_count": 1,
   "id": "43f77f00-d42f-4254-b365-4b98189c0fd6",
   "metadata": {},
   "outputs": [
    {
     "name": "stdout",
     "output_type": "stream",
     "text": [
      "Using cpu device\n"
     ]
    }
   ],
   "source": [
    "import torch\n",
    "from torch import nn\n",
    "from torch import optim\n",
    "device = (\n",
    "    \"cuda\"\n",
    "    if torch.cuda.is_available()\n",
    "    else \"mps\"\n",
    "    if torch.backends.mps.is_available()\n",
    "    else \"cpu\"\n",
    ")\n",
    "print(f\"Using {device} device\")\n",
    "\n",
    "import gym\n",
    "\n",
    "from DQN import DQN"
   ]
  },
  {
   "cell_type": "code",
   "execution_count": 38,
   "id": "cafa6f54-ab0c-4d21-8486-9bf105d40d5f",
   "metadata": {},
   "outputs": [],
   "source": [
    "class Network(nn.Module):\n",
    "    def __init__(self):\n",
    "        super().__init__()\n",
    "        self.net = nn.Sequential(\n",
    "            nn.Linear(4, 512),\n",
    "            nn.ReLU(),\n",
    "            nn.Linear(512, 512),\n",
    "            nn.ReLU(),\n",
    "            nn.Linear(512, 512),\n",
    "            nn.ReLU(),\n",
    "            nn.Linear(512, 128),\n",
    "            nn.ReLU(),\n",
    "            nn.Linear(128, 2),\n",
    "        )\n",
    "\n",
    "    def forward(self, x):\n",
    "        return self.net(x)"
   ]
  },
  {
   "cell_type": "code",
   "execution_count": 40,
   "id": "8f39d816-3daa-4bb6-aeae-529abd8d1c99",
   "metadata": {},
   "outputs": [],
   "source": [
    "model = Network()\n",
    "loss_fn = nn.MSELoss()\n",
    "optimizer = optim.Adam(model.parameters(), lr=0.001)"
   ]
  },
  {
   "cell_type": "code",
   "execution_count": 41,
   "id": "a457755a-475a-4157-b64d-e1f0838199bf",
   "metadata": {},
   "outputs": [],
   "source": [
    "env = gym.make('CartPole-v1', render_mode='rgb_array')"
   ]
  },
  {
   "cell_type": "code",
   "execution_count": 42,
   "id": "591f27c4-a3a4-4d1a-8265-a6f09c95db4a",
   "metadata": {},
   "outputs": [],
   "source": [
    "agent = DQN(env, model, loss_fn, optimizer, [0,1], update_epi=50, discount_factor=0.95, eps=0.1)"
   ]
  },
  {
   "cell_type": "code",
   "execution_count": 51,
   "id": "26c526ba-11f9-4870-a51e-e096229cad04",
   "metadata": {},
   "outputs": [
    {
     "name": "stdout",
     "output_type": "stream",
     "text": [
      "Episode 0 => average steps: 4\n",
      "Updating policy.. Done!\n",
      "Episode 50 => average steps: 108\n",
      "Updating policy.. Done!\n",
      "Episode 100 => average steps: 109\n",
      "Updating policy.. Done!\n",
      "Episode 150 => average steps: 87\n",
      "Updating policy.. Done!\n",
      "Episode 200 => average steps: 89\n",
      "Updating policy.. Done!\n",
      "Episode 250 => average steps: 101\n",
      "Updating policy.. Done!\n",
      "Episode 300 => average steps: 93\n",
      "Updating policy.. Done!\n",
      "Episode 350 => average steps: 88\n",
      "Updating policy.. Done!\n",
      "Episode 400 => average steps: 82\n",
      "Updating policy.. Done!\n",
      "Episode 450 => average steps: 75\n",
      "Updating policy.. Done!\n",
      "Episode 500 => average steps: 79\n",
      "Updating policy.. Done!\n",
      "Episode 550 => average steps: 65\n",
      "Updating policy.. Done!\n",
      "Episode 600 => average steps: 60\n",
      "Updating policy.. Done!\n",
      "Episode 650 => average steps: 60\n",
      "Updating policy.. Done!\n",
      "Episode 700 => average steps: 58\n",
      "Updating policy.. Done!\n",
      "Episode 750 => average steps: 60\n",
      "Updating policy.. Done!\n",
      "Episode 800 => average steps: 62\n",
      "Updating policy.. Done!\n",
      "Episode 850 => average steps: 58\n",
      "Updating policy.. Done!\n",
      "Episode 900 => average steps: 57\n",
      "Updating policy.. Done!\n",
      "Episode 950 => average steps: 56\n",
      "Updating policy.. Done!\n",
      "Episode 1000 => average steps: 53\n",
      "Updating policy.. Done!\n",
      "Episode 1050 => average steps: 65\n",
      "Updating policy.. Done!\n",
      "Episode 1100 => average steps: 66\n",
      "Updating policy.. Done!\n",
      "Episode 1150 => average steps: 73\n",
      "Updating policy.. Done!\n",
      "Episode 1200 => average steps: 82\n",
      "Updating policy.. Done!\n",
      "Episode 1250 => average steps: 84\n",
      "Updating policy.. Done!\n",
      "Episode 1300 => average steps: 103\n",
      "Updating policy.. Done!\n",
      "Episode 1350 => average steps: 124\n",
      "Updating policy.. Done!\n",
      "Episode 1400 => average steps: 170\n",
      "Updating policy.. Done!\n",
      "Episode 1450 => average steps: 336\n",
      "Updating policy.. Done!\n",
      "Episode 1500 => average steps: 586\n",
      "Updating policy.. Done!\n",
      "Episode 1550 => average steps: 521\n",
      "Updating policy.. Done!\n",
      "Episode 1600 => average steps: 486\n",
      "Updating policy.. Done!\n",
      "Episode 1650 => average steps: 624\n",
      "Updating policy.. Done!\n",
      "Episode 1700 => average steps: 516\n",
      "Updating policy.. Done!\n",
      "Episode 1750 => average steps: 314\n",
      "Updating policy.. Done!\n",
      "Episode 1800 => average steps: 235\n",
      "Updating policy.. Done!\n",
      "Episode 1850 => average steps: 226\n",
      "Updating policy.. Done!\n",
      "Episode 1900 => average steps: 240\n",
      "Updating policy.. Done!\n",
      "Episode 1950 => average steps: 295\n",
      "Updating policy.. Done!\n",
      "Episode 2000 => average steps: 335\n",
      "Updating policy.. Done!\n",
      "Episode 2050 => average steps: 420\n",
      "Updating policy.. Done!\n",
      "Episode 2100 => average steps: 1045\n",
      "Updating policy.. Done!\n",
      "Episode 2150 => average steps: 374\n",
      "Updating policy.. Done!\n",
      "Episode 2200 => average steps: 138\n",
      "Updating policy.. Done!\n",
      "Episode 2250 => average steps: 81\n",
      "Updating policy.. Done!\n",
      "Episode 2300 => average steps: 48\n",
      "Updating policy.. Done!\n",
      "Episode 2350 => average steps: 31\n",
      "Updating policy.. Done!\n",
      "Episode 2400 => average steps: 24\n",
      "Updating policy.. Done!\n",
      "Episode 2450 => average steps: 23\n",
      "Updating policy.. Done!\n",
      "Episode 2500 => average steps: 26\n",
      "Updating policy.. Done!\n",
      "Episode 2550 => average steps: 35\n",
      "Updating policy.. Done!\n",
      "Episode 2600 => average steps: 69\n",
      "Updating policy.. Done!\n",
      "Episode 2650 => average steps: 138\n",
      "Updating policy.. Done!\n",
      "Episode 2700 => average steps: 384\n",
      "Updating policy.. Done!\n",
      "Episode 2750 => average steps: 1135\n",
      "Updating policy.. Done!\n",
      "Episode 2800 => average steps: 4233\n",
      "Updating policy.. Done!\n",
      "Episode 2850 => average steps: 1656\n",
      "Updating policy.. Done!\n",
      "Episode 2900 => average steps: 924\n",
      "Updating policy.. Done!\n",
      "Episode 2950 => average steps: 610\n",
      "Updating policy.. Done!\n",
      "Episode 2999 => average steps: 469\n",
      "Updating policy.. Done!\n"
     ]
    }
   ],
   "source": [
    "agent.train(3000)"
   ]
  },
  {
   "cell_type": "code",
   "execution_count": null,
   "id": "c1e3def5-46a0-4f68-b442-464a297d144a",
   "metadata": {},
   "outputs": [
    {
     "name": "stdout",
     "output_type": "stream",
     "text": [
      "Episode 0 => average steps: 11\n",
      "Episode 50 => average steps: 556\n",
      "Episode 100 => average steps: 551\n",
      "Episode 150 => average steps: 552\n",
      "Episode 200 => average steps: 540\n",
      "Episode 250 => average steps: 553\n",
      "Episode 300 => average steps: 542\n"
     ]
    }
   ],
   "source": [
    "agent.test(1000)"
   ]
  },
  {
   "cell_type": "code",
   "execution_count": null,
   "id": "f73ca218-501c-452f-a717-142a86072fc4",
   "metadata": {},
   "outputs": [],
   "source": []
  }
 ],
 "metadata": {
  "kernelspec": {
   "display_name": "Python 3 (ipykernel)",
   "language": "python",
   "name": "python3"
  },
  "language_info": {
   "codemirror_mode": {
    "name": "ipython",
    "version": 3
   },
   "file_extension": ".py",
   "mimetype": "text/x-python",
   "name": "python",
   "nbconvert_exporter": "python",
   "pygments_lexer": "ipython3",
   "version": "3.10.12"
  }
 },
 "nbformat": 4,
 "nbformat_minor": 5
}
