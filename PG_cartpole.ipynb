{
 "cells": [
  {
   "cell_type": "code",
   "execution_count": 1,
   "id": "f22ebeda-e74f-4932-9228-d5714765da4f",
   "metadata": {},
   "outputs": [
    {
     "name": "stdout",
     "output_type": "stream",
     "text": [
      "Using cpu device\n"
     ]
    }
   ],
   "source": [
    "import torch\n",
    "from torch import nn\n",
    "from torch import optim\n",
    "device = (\n",
    "    \"cuda\"\n",
    "    if torch.cuda.is_available()\n",
    "    else \"mps\"\n",
    "    if torch.backends.mps.is_available()\n",
    "    else \"cpu\"\n",
    ")\n",
    "print(f\"Using {device} device\")\n",
    "\n",
    "import gym\n",
    "\n",
    "from PolicyGradient import PolicyGradient, Reinforce"
   ]
  },
  {
   "cell_type": "code",
   "execution_count": 2,
   "id": "b490ca62-7c90-4456-b1da-5a3d5d43fbb1",
   "metadata": {},
   "outputs": [],
   "source": [
    "class Network(nn.Module):\n",
    "    def __init__(self, input_dim, output_dim):\n",
    "        super().__init__()\n",
    "\n",
    "        self.Share = nn.Sequential(\n",
    "            nn.Linear(input_dim, 128),\n",
    "            nn.ReLU(),\n",
    "            nn.Linear(128, output_dim),\n",
    "            # nn.ReLU(),\n",
    "            nn.Softmax()\n",
    "        )\n",
    "\n",
    "        self.mean = nn.Sequential(\n",
    "            nn.Linear(128, output_dim)\n",
    "        )\n",
    "        self.stddev = nn.Sequential(\n",
    "            nn.Linear(128, output_dim),\n",
    "        )\n",
    "\n",
    "    def forward(self, x):\n",
    "        x = self.Share(x)\n",
    "        # means = self.mean(x)\n",
    "        # stddevs = torch.log(1 + torch.exp(self.stddev(x)))\n",
    "\n",
    "        return x"
   ]
  },
  {
   "cell_type": "code",
   "execution_count": 3,
   "id": "b79eb961-6f41-4e20-9793-2fc45de639d4",
   "metadata": {},
   "outputs": [],
   "source": [
    "model = Network(4, 2)\n",
    "optimizer = optim.Adam(model.parameters(), lr=0.01)"
   ]
  },
  {
   "cell_type": "code",
   "execution_count": 4,
   "id": "45cf63d6-7bc6-44fa-bd5b-13b30b897a4e",
   "metadata": {},
   "outputs": [],
   "source": [
    "env = gym.make('CartPole-v1', render_mode='rgb_array')"
   ]
  },
  {
   "cell_type": "code",
   "execution_count": 5,
   "id": "23f2f426-c396-4818-bd4b-de3a42df96dc",
   "metadata": {},
   "outputs": [],
   "source": [
    "agent = PolicyGradient(env, model, optimizer, batch_size=32, action_space_type='discrete')"
   ]
  },
  {
   "cell_type": "code",
   "execution_count": null,
   "id": "5f527ef6-3246-4b35-94cb-95b8ce07edf9",
   "metadata": {},
   "outputs": [],
   "source": [
    "agent.train(1024, max_steps=999)"
   ]
  },
  {
   "cell_type": "code",
   "execution_count": null,
   "id": "552c9109-762f-4aba-a1d6-e7b888d177fe",
   "metadata": {},
   "outputs": [],
   "source": []
  },
  {
   "cell_type": "code",
   "execution_count": 20,
   "id": "334244d3-3411-4517-9c2c-5a545c442f76",
   "metadata": {},
   "outputs": [],
   "source": [
    "model2 = Network(4, 2)\n",
    "optimizer2 = optim.Adam(model2.parameters(), lr=0.01)"
   ]
  },
  {
   "cell_type": "code",
   "execution_count": 21,
   "id": "b349d799-c0ff-4237-86ae-620f30a5251f",
   "metadata": {},
   "outputs": [],
   "source": [
    "agent2 = Reinforce(env, model2, optimizer2, batch_size=16, discount_factor=0.99, action_space_type='discrete')"
   ]
  },
  {
   "cell_type": "code",
   "execution_count": 22,
   "id": "28a3927a-055c-4f97-a28c-dd1c37a0eedd",
   "metadata": {},
   "outputs": [
    {
     "name": "stdout",
     "output_type": "stream",
     "text": [
      "Batch 1 (Epi [16/512]): avg steps: 19.5 avg reward: 19.5\n",
      "Batch 2 (Epi [32/512]): avg steps: 26.125 avg reward: 26.125\n",
      "Batch 3 (Epi [48/512]): avg steps: 28.1875 avg reward: 28.1875\n",
      "Batch 4 (Epi [64/512]): avg steps: 28.0625 avg reward: 28.0625\n",
      "Batch 5 (Epi [80/512]): avg steps: 38.25 avg reward: 38.25\n",
      "Batch 6 (Epi [96/512]): avg steps: 33.625 avg reward: 33.625\n",
      "Batch 7 (Epi [112/512]): avg steps: 39.0625 avg reward: 39.0625\n",
      "Batch 8 (Epi [128/512]): avg steps: 36.4375 avg reward: 36.4375\n",
      "Batch 9 (Epi [144/512]): avg steps: 45.4375 avg reward: 45.4375\n",
      "Batch 10 (Epi [160/512]): avg steps: 47.1875 avg reward: 47.1875\n",
      "Batch 11 (Epi [176/512]): avg steps: 54.5625 avg reward: 54.5625\n",
      "Batch 12 (Epi [192/512]): avg steps: 78.9375 avg reward: 78.9375\n",
      "Batch 13 (Epi [208/512]): avg steps: 60.5 avg reward: 60.5\n",
      "Batch 14 (Epi [224/512]): avg steps: 60.4375 avg reward: 60.4375\n",
      "Batch 15 (Epi [240/512]): avg steps: 78.9375 avg reward: 78.9375\n",
      "Batch 16 (Epi [256/512]): avg steps: 76.625 avg reward: 76.625\n",
      "Batch 17 (Epi [272/512]): avg steps: 80.0625 avg reward: 80.0625\n",
      "Batch 18 (Epi [288/512]): avg steps: 89.4375 avg reward: 89.4375\n",
      "Batch 19 (Epi [304/512]): avg steps: 93.3125 avg reward: 93.3125\n",
      "Batch 20 (Epi [320/512]): avg steps: 91.0625 avg reward: 91.0625\n",
      "Batch 21 (Epi [336/512]): avg steps: 124.5 avg reward: 124.5\n",
      "Batch 22 (Epi [352/512]): avg steps: 173.25 avg reward: 173.25\n",
      "Batch 23 (Epi [368/512]): avg steps: 183.4375 avg reward: 183.4375\n",
      "Batch 24 (Epi [384/512]): avg steps: 250.6875 avg reward: 250.6875\n",
      "Batch 25 (Epi [400/512]): avg steps: 247.625 avg reward: 247.625\n",
      "Batch 26 (Epi [416/512]): avg steps: 198.0625 avg reward: 198.0625\n",
      "Batch 27 (Epi [432/512]): avg steps: 279.375 avg reward: 279.375\n",
      "Batch 28 (Epi [448/512]): avg steps: 313.625 avg reward: 313.625\n",
      "Batch 29 (Epi [464/512]): avg steps: 379.3125 avg reward: 379.3125\n",
      "Batch 30 (Epi [480/512]): avg steps: 333.4375 avg reward: 333.4375\n",
      "Batch 31 (Epi [496/512]): avg steps: 311.0625 avg reward: 311.0625\n",
      "Batch 31 (Epi [511/512]): avg steps: 366.1333333333333 avg reward: 366.1333333333333\n"
     ]
    }
   ],
   "source": [
    "agent2.train(512, max_steps=500)"
   ]
  },
  {
   "cell_type": "code",
   "execution_count": null,
   "id": "5fa1863a-4999-45bc-9fd3-fea7a9bc5c07",
   "metadata": {},
   "outputs": [],
   "source": []
  }
 ],
 "metadata": {
  "kernelspec": {
   "display_name": "Python 3 (ipykernel)",
   "language": "python",
   "name": "python3"
  },
  "language_info": {
   "codemirror_mode": {
    "name": "ipython",
    "version": 3
   },
   "file_extension": ".py",
   "mimetype": "text/x-python",
   "name": "python",
   "nbconvert_exporter": "python",
   "pygments_lexer": "ipython3",
   "version": "3.10.12"
  }
 },
 "nbformat": 4,
 "nbformat_minor": 5
}
